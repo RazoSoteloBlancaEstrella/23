{
  "cells": [
    {
      "cell_type": "markdown",
      "metadata": {
        "id": "view-in-github",
        "colab_type": "text"
      },
      "source": [
        "<a href=\"https://colab.research.google.com/github/RazoSoteloBlancaEstrella/23/blob/main/THC_BLANCARAZO_TAREA3.ipynb\" target=\"_parent\"><img src=\"https://colab.research.google.com/assets/colab-badge.svg\" alt=\"Open In Colab\"/></a>"
      ]
    },
    {
      "cell_type": "markdown",
      "metadata": {
        "id": "PSfSuC8MYkU4"
      },
      "source": [
        "Del repositorio de Github, Nivel Básico, Fundamentos de Programación, Variables, Ejercicios: 1, 2, 4, 6 y 10.\n"
      ]
    },
    {
      "cell_type": "markdown",
      "metadata": {
        "id": "6hqrRQpoZ2_w"
      },
      "source": [
        "Calculadora Simple: Crea un programa que solicite al usuario dos números y realice operaciones básicas como suma, resta, multiplicación y división. Muestra los resultados usando variables."
      ]
    },
    {
      "cell_type": "code",
      "execution_count": null,
      "metadata": {
        "colab": {
          "base_uri": "https://localhost:8080/"
        },
        "id": "WRaxQB6mYLYZ",
        "outputId": "7dc00346-f638-4f10-a9be-ee76ec612d85"
      },
      "outputs": [
        {
          "name": "stdout",
          "output_type": "stream",
          "text": [
            "Write a first number 39\n",
            "Write a second number 3\n",
            "The sum of 39 and 3 is equal to 42\n",
            "The subtraction of 39 and 3 is equal to 36\n",
            "The multiplication of 39 and 3 is equal to 117\n",
            "The division of 39 and 3 is equal to 13.0\n"
          ]
        }
      ],
      "source": [
        "#Se solicita al usuario dos numeros\n",
        "OneNum=int(input(\"Write a first number \"))\n",
        "TwoNum=int(input(\"Write a second number \"))\n",
        "\n",
        "#Operaciones basicas\n",
        "sum= OneNum + TwoNum  #sum, abreviacion de suma\n",
        "sub= OneNum - TwoNum  #sub, abreviacion de resta\n",
        "mult= OneNum * TwoNum  #mult, abreviacion de multiplicacion\n",
        "div= OneNum / TwoNum   #div, abreviacion de division\n",
        "\n",
        "#Resultados\n",
        "print(\"The sum of \" + str(OneNum) + \" and \" +str(TwoNum) + \" is equal to \" + str(sum))\n",
        "print(\"The subtraction of \" + str(OneNum) + \" and \" +str(TwoNum) + \" is equal to \" + str(sub))\n",
        "print(\"The multiplication of \" + str(OneNum) + \" and \" +str(TwoNum) + \" is equal to \" + str(mult))\n",
        "print(\"The division of \" + str(OneNum) + \" and \" +str(TwoNum) + \" is equal to \" + str(div))\n"
      ]
    },
    {
      "cell_type": "markdown",
      "metadata": {
        "id": "TTyNLBh6rT7V"
      },
      "source": [
        "Conversión de Temperaturas: Escribe un programa que permita al usuario ingresar una temperatura en grados Celsius y luego la convierta a grados Fahrenheit utilizando una variable para almacenar la fórmula de conversión."
      ]
    },
    {
      "cell_type": "code",
      "execution_count": null,
      "metadata": {
        "colab": {
          "base_uri": "https://localhost:8080/"
        },
        "id": "AhxGMN4TsC3j",
        "outputId": "cb4a3205-5fc5-409c-ad4a-5e7f2e5910f2"
      },
      "outputs": [
        {
          "output_type": "stream",
          "name": "stdout",
          "text": [
            "Write a first number: 120\n",
            "120 degrees Celsius equals 248.0 degrees Fahrenheit.\n"
          ]
        }
      ],
      "source": [
        "#Solicitar al usuario la temperatura en grados Celsius\n",
        "C= int(input(\"Write a first number: \"))  #C es la abreviacion de Celsius\n",
        "\n",
        "#Formula de celsius a Fahrenheit\n",
        "F= (C * 9/5) + 32  #F es la abreviacion de Fahrenheit\n",
        "\n",
        "#Resultados\n",
        "print(str(C) + \" degrees Celsius equals \" + str(F) + \" degrees Fahrenheit.\")"
      ]
    },
    {
      "cell_type": "markdown",
      "metadata": {
        "id": "0BkkG7Jpxtoe"
      },
      "source": [
        "Contador de Palabras: Crea un programa que tome una cadena de texto ingresada por el usuario y cuente cuántas palabras contiene. Utiliza una variable para mantener el contador."
      ]
    },
    {
      "cell_type": "code",
      "execution_count": null,
      "metadata": {
        "colab": {
          "base_uri": "https://localhost:8080/"
        },
        "id": "4KyWNMdMxyme",
        "outputId": "ffc53e54-b0a7-42a3-e5bf-7a0565fe0438"
      },
      "outputs": [
        {
          "output_type": "stream",
          "name": "stdout",
          "text": [
            "Enter a text string: hola soy\n",
            "the text contains 2 words\n"
          ]
        }
      ],
      "source": [
        "#Solicitar al usuario que ingrese una cadena de texto\n",
        "text= (input(\"Enter a text string: \"))\n",
        "#len, divide el texto en palabras usando el espacio como separador y contar las palabras\n",
        "counter= len(text.split())\n",
        "\n",
        "#Resultado\n",
        "print(\"the text contains \" + str(counter) + \" words\")"
      ]
    },
    {
      "cell_type": "markdown",
      "metadata": {
        "id": "Ms5ZAuHU4phS"
      },
      "source": [
        "Cálculo del Promedio: Escribe un programa que permita al usuario ingresar una lista de números separados por comas y luego calcule su promedio utilizando variables."
      ]
    },
    {
      "cell_type": "code",
      "execution_count": null,
      "metadata": {
        "colab": {
          "base_uri": "https://localhost:8080/"
        },
        "id": "UT2LTSNBD6-t",
        "outputId": "e9e0c9b8-f489-49fd-ba7f-743ecf0a890a"
      },
      "outputs": [
        {
          "output_type": "stream",
          "name": "stdout",
          "text": [
            "write a list of numbers separated by commas: 3, 4, 5\n",
            "The average of the numbers is 4.0\n"
          ]
        }
      ],
      "source": [
        "#Solicitar al usuario que ingrese una lista de números separados por comas\n",
        "numbers= input(\"write a list of numbers separated by commas: \")\n",
        "\n",
        "#convertir en una lista de numeros\n",
        "lista_numeros= [float(num) for num in numbers.split(\",\")]\n",
        "\n",
        "sum=0\n",
        "counter=0\n",
        "\n",
        "for num in lista_numeros:\n",
        "  sum+= num\n",
        "  counter +=1\n",
        "\n",
        "average= sum / counter\n",
        "\n",
        "print(\"The average of the numbers is \" + str(average))"
      ]
    },
    {
      "cell_type": "markdown",
      "metadata": {
        "id": "ENA9XEHsFQa_"
      },
      "source": [
        "Registro de Estudiantes: Crea un programa que permita a un profesor registrar los nombres y calificaciones de varios estudiantes. Utiliza variables para almacenar los nombres, calificaciones y calcular el promedio."
      ]
    },
    {
      "cell_type": "code",
      "execution_count": null,
      "metadata": {
        "colab": {
          "base_uri": "https://localhost:8080/"
        },
        "id": "mR84aSY_d8HJ",
        "outputId": "b87b5ce3-bf70-4bc6-95f7-6a02a68b7e71"
      },
      "outputs": [
        {
          "output_type": "stream",
          "name": "stdout",
          "text": [
            "How many students do you want to register? 2\n",
            "enter the name of the student 1de\n",
            "Introduce la calificación de de10\n",
            "enter the name of the student 2fr\n",
            "Introduce la calificación de fr10\n",
            "\n",
            "Student registration: \n",
            "student: de, qualification: 10.0\n",
            "student: fr, qualification: 10.0\n",
            "\n",
            "The average grade is: 10.00\n"
          ]
        }
      ],
      "source": [
        "#Solicitar al usuario el numero de estudiantes\n",
        "Num_students= int(input(\"How many students do you want to register? \"))\n",
        "\n",
        "registration_students = {}\n",
        "\n",
        "suma_calificaciones = 0\n",
        "#Registro de nombres y calificaciones\n",
        "for i in range(Num_students):\n",
        "  name= input(\"enter the name of the student \" + str(i+1))\n",
        "  calificacion= float(input(\"Introduce la calificación de \" + str(name)))\n",
        "\n",
        "  registration_students[name] = calificacion  #Almacenar el nombre y la calificación\n",
        "  suma_calificaciones += calificacion\n",
        "#Calcular el promedio de calificaciones\n",
        "promedio = suma_calificaciones / Num_students\n",
        "\n",
        "#Resultados\n",
        "print(\"\\nStudent registration: \")\n",
        "for name, calificacion in registration_students.items():\n",
        "  print(\"student: \" +str(name) + \", qualification: \" +str(calificacion))\n",
        "\n",
        "print(f\"\\nThe average grade is: {promedio:.2f}\")"
      ]
    },
    {
      "cell_type": "markdown",
      "metadata": {
        "id": "fb_zyon-_EuE"
      },
      "source": [
        "Del repositorio de Github, Nivel Básico, Fundamentos de Programación, Sintaxis/comentarios/tipos de datos, Ejercicios 2, 3, 6."
      ]
    },
    {
      "cell_type": "markdown",
      "metadata": {
        "id": "3FjfGoBl_Rez"
      },
      "source": [
        "Escribe un programa simple que realice una tarea específica, como calcular el área de un rectángulo o imprimir una tabla de multiplicar. Agrega comentarios descriptivos en el código para explicar cada paso del proceso."
      ]
    },
    {
      "cell_type": "code",
      "execution_count": null,
      "metadata": {
        "colab": {
          "base_uri": "https://localhost:8080/"
        },
        "id": "hO7pfrSY_ack",
        "outputId": "f954d21a-d79c-4c72-88dc-3b0a2fcdc6bd"
      },
      "outputs": [
        {
          "output_type": "stream",
          "name": "stdout",
          "text": [
            "Enter the base of the rectangle: 4\n",
            "Enter the height of the rectangle: 5\n",
            "El area del rectangulo: 20\n"
          ]
        }
      ],
      "source": [
        "#Programa para calcular el area de un rectangulo\n",
        "#Solicitar al usuario la base y la altura del rectangulo\n",
        "base= int(input(\"Enter the base of the rectangle: \"))\n",
        "height= int(input(\"Enter the height of the rectangle: \"))\n",
        "#Formula para calcular el area del rectangulo\n",
        "Area_of_the_rectangle= base * height\n",
        "#Resultado\n",
        "print(\"El area del rectangulo: \" + str(Area_of_the_rectangle))"
      ]
    },
    {
      "cell_type": "code",
      "execution_count": null,
      "metadata": {
        "colab": {
          "base_uri": "https://localhost:8080/"
        },
        "id": "55YwhCeFECEv",
        "outputId": "9bc15607-3f40-478f-bd80-919accb45863"
      },
      "outputs": [
        {
          "name": "stdout",
          "output_type": "stream",
          "text": [
            "Elija el poligono regular que desea calcular el area: \n",
            "1. Triangulo (3 lados) \n",
            "2. Cuadrado (4 lados) \n",
            "3. Pentágono (5 lados) \n",
            "4. Hexagono (6 lados) \n",
            "5. Heptagono (7 lados) \n",
            "Ingresa el numero del poligono (1-5): 3\n",
            "Pentagono: \n",
            "Ingresa la medida de uno de sus lados: 5\n",
            "ingresa la apotema: 2\n",
            "El area del poligono es: 25.00\n"
          ]
        }
      ],
      "source": [
        "#Programa para calcular el área de un polígono regular\n",
        "#El usuario puede elegir entre triángulo, cuadrado, pentágono, hexágono o heptágono\n",
        "import math\n",
        "\n",
        "#Opciones para el usuario\n",
        "print(\"Elija el poligono regular que desea calcular el area: \")\n",
        "print(\"1. Triangulo (3 lados) \")\n",
        "print(\"2. Cuadrado (4 lados) \")\n",
        "print(\"3. Pentágono (5 lados) \")\n",
        "print(\"4. Hexagono (6 lados) \")\n",
        "print(\"5. Heptagono (7 lados) \")\n",
        "#Solicitar la eleccion\n",
        "opcion= int(input(\"Ingresa el numero del poligono (1-5): \"))\n",
        "\n",
        "if opcion ==1:\n",
        "  print(\"Triangulo: \")\n",
        "  base= float(input(\"Ingresa la base del triangulo: \"))\n",
        "  altura= float(input(\"ingresa la altura del triangulo: \"))\n",
        "  area= (base*altura)/2\n",
        "elif opcion ==2:\n",
        "  print(\"Cuadrado: \")\n",
        "  base= float(input(\"Ingresa la base del triangulo: \"))\n",
        "  altura= float(input(\"ingresa la altura del triangulo: \"))\n",
        "  area= base*altura\n",
        "elif opcion ==3:\n",
        "  print(\"Pentagono: \")\n",
        "  lado= float(input(\"Ingresa la medida de uno de sus lados: \"))\n",
        "  apotema= float(input(\"ingresa la apotema: \"))\n",
        "  area= ((lado*5)*apotema)/2\n",
        "elif opcion ==4:\n",
        "  print(\"Pentagono: \")\n",
        "  lado= float(input(\"Ingresa la medida de uno de sus lados: \"))\n",
        "  apotema= float(input(\"ingresa la apotema: \"))\n",
        "  area= ((lado*6)*apotema)/2\n",
        "elif opcion ==5:\n",
        "  print(\"Pentagono: \")\n",
        "  lado= float(input(\"Ingresa la medida de uno de sus lados: \"))\n",
        "  apotema= float(input(\"ingresa la apotema: \"))\n",
        "  area= ((lado*7)*apotema)/2\n",
        "\n",
        "else:\n",
        "  print(\"Opcion no valida\")\n",
        "  area= None\n",
        "#Resultado\n",
        "if area is not None:\n",
        "  print(f\"El area del poligono es: {area:.2f}\")"
      ]
    },
    {
      "cell_type": "markdown",
      "metadata": {
        "id": "fkwBm6HcK9uJ"
      },
      "source": [
        "Escribe un programa que resuelva un problema o realice una tarea interesante. Agrega comentarios informativos que expliquen la lógica detrás de cada paso importante del programa."
      ]
    },
    {
      "cell_type": "code",
      "execution_count": null,
      "metadata": {
        "colab": {
          "base_uri": "https://localhost:8080/"
        },
        "id": "X0a2dsAbQuLl",
        "outputId": "aa61940b-5d7c-41fe-a5dc-575527272f2c"
      },
      "outputs": [
        {
          "output_type": "stream",
          "name": "stdout",
          "text": [
            "Pequeño juego matematico, ¡candado de combinacion! \n",
            "Debes adivinar una combinación de 3 dígitos. Cada dígito está entre 0 y 9\n",
            "Recibirás pistas sobre cuántos números son correctos y cuántos están bien posicionados\n",
            "Introduce 3 dígitos separados por espacio (ejemplo: 1 2 3): 1 2 3\n",
            "hay 0 numeros correctos, de los cuales  0 estan bien posicionados\n",
            "Introduce 3 dígitos separados por espacio (ejemplo: 1 2 3): 4 5 6\n",
            "hay 1 numeros correctos, de los cuales  0 estan bien posicionados\n",
            "Introduce 3 dígitos separados por espacio (ejemplo: 1 2 3): 7 8 9\n",
            "hay 1 numeros correctos, de los cuales  1 estan bien posicionados\n",
            "Introduce 3 dígitos separados por espacio (ejemplo: 1 2 3): 0 4 5\n",
            "hay 2 numeros correctos, de los cuales  1 estan bien posicionados\n",
            "Introduce 3 dígitos separados por espacio (ejemplo: 1 2 3): 0 4 7\n",
            "hay 2 numeros correctos, de los cuales  0 estan bien posicionados\n",
            "Introduce 3 dígitos separados por espacio (ejemplo: 1 2 3): 8 0 5\n",
            "hay 2 numeros correctos, de los cuales  2 estan bien posicionados\n",
            "Introduce 3 dígitos separados por espacio (ejemplo: 1 2 3): 9 0 5\n",
            "hay 2 numeros correctos, de los cuales  2 estan bien posicionados\n",
            "Introduce 3 dígitos separados por espacio (ejemplo: 1 2 3): 7 0 5\n",
            "¡Genial! Has adivinado la combinación correcta: [7, 0, 5]\n"
          ]
        }
      ],
      "source": [
        "#Juego del candado de combinación de 3 dígitos\n",
        "#El usuario debe adivinar los 3 dígitos de la combinación\n",
        "import random\n",
        "\n",
        "def generar_combinacion():\n",
        "\n",
        "  return [random.randint(0, 9) for _ in range(3)]\n",
        "\n",
        "def evaluar_conbinacion(intento, combinacion):\n",
        "  #contadores\n",
        "  correctos= 0\n",
        "  bien_posicionados= 0\n",
        "#Recorrer cada digito del intento\n",
        "#digito correcto y bien posicionado\n",
        "  for i in range(3):\n",
        "    if intento[i] == combinacion[i]:\n",
        "      bien_posicionados += 1\n",
        "    elif intento[i] in combinacion:\n",
        "      correctos += 1  #Digito correcto pero mal posicionado\n",
        "\n",
        "  return correctos, bien_posicionados\n",
        "\n",
        "def juego_candado():\n",
        "#generador de la combinacion\n",
        "  combinacion_secreta = generar_combinacion()\n",
        "\n",
        "  print(\"Pequeño juego matematico, ¡candado de combinacion! \")\n",
        "  print(\"Debes adivinar una combinación de 3 dígitos. Cada dígito está entre 0 y 9\")\n",
        "  print(\"Recibirás pistas sobre cuántos números son correctos y cuántos están bien posicionados\")\n",
        "#crear un bucle hasta la respuesta correcta\n",
        "  while True:\n",
        "   try:\n",
        "# Pedir los 3 dígitos al usuario\n",
        "        intento = input(\"Introduce 3 dígitos separados por espacio (ejemplo: 1 2 3): \").split()\n",
        "\n",
        "#Convertir los dígitos ingresados a una lista\n",
        "        intento = [int(d) for d in intento]\n",
        "\n",
        "#Verificar que el usuario haya ingresado exactamente 3 dígitos\n",
        "        if len(intento) != 3:\n",
        "            print(\"Debes ingresar exactamente 3 dígitos. Intenta de nuevo.\")\n",
        "            continue\n",
        "\n",
        "#Evaluar el intento\n",
        "        correctos, bien_posicionados = evaluar_conbinacion(intento, combinacion_secreta)\n",
        "\n",
        "#Verificar si fue correcto\n",
        "        if bien_posicionados == 3:\n",
        "            print(\"¡Genial! Has adivinado la combinación correcta:\", combinacion_secreta)\n",
        "            break\n",
        "\n",
        "# Proporcionar pistas al usuario\n",
        "        print(f\"hay {correctos + bien_posicionados} numeros correctos, de los cuales  {bien_posicionados} estan bien posicionados\")\n",
        "   except ValueError:\n",
        "      print(\"intenta de nuevo\")\n",
        "# Ejecucion del juego\n",
        "juego_candado()\n"
      ]
    },
    {
      "cell_type": "markdown",
      "source": [
        "Escribe un programa que sea útil para los usuarios. Agrega comentarios al principio del programa que expliquen cómo se usa el programa y qué se espera que hagan los usuarios."
      ],
      "metadata": {
        "id": "lU_iIyuTSQZe"
      }
    },
    {
      "cell_type": "code",
      "source": [
        "# Programa: Calculadora de Propinas\n",
        "# Este programa calcula la propina y el total a pagar en un restaurante.\n",
        "\n",
        "# Cómo usar el programa:\n",
        "# 1. Ingrese el monto total de la cuenta (sin propina).\n",
        "# 2. Ingrese el porcentaje de propina que desea dejar.\n",
        "# 3. El programa calculará la propina y el total a pagar (cuenta + propina).\n",
        "\n",
        "def calcular_propina():\n",
        "  print(\"listo para calcular tu pago final! \")\n",
        "#monto total\n",
        "  cuenta = float(input(\"Ingresa el monto total de la cuenta: $\"))\n",
        "#porcentaje de la propina\n",
        "  porcentaje_propina = float(input(\"Ingrese el porcentaje de propina que desea dejar (ejemplo: 15 para 15%): \"))\n",
        "\n",
        "  propina = cuenta * (porcentaje_propina / 100) #operacion\n",
        "\n",
        "  total_pagar = cuenta + propina\n",
        "\n",
        "# Mostrar el resultado\n",
        "  print(f\"La propina es: ${propina:.2f}\")\n",
        "  print(f\"El total a pagar es: ${total_pagar:.2f}\")\n",
        "\n",
        "calcular_propina()"
      ],
      "metadata": {
        "colab": {
          "base_uri": "https://localhost:8080/"
        },
        "id": "RADWO_82SRY4",
        "outputId": "151f3904-1bfd-4b05-92ec-a9097d65391b"
      },
      "execution_count": null,
      "outputs": [
        {
          "output_type": "stream",
          "name": "stdout",
          "text": [
            "listo para calcular tu pago final! \n",
            "Ingresa el monto total de la cuenta: $3000\n",
            "Ingrese el porcentaje de propina que desea dejar (ejemplo: 15 para 15%): 5\n",
            "La propina es: $150.00\n",
            "El total a pagar es: $3150.00\n"
          ]
        }
      ]
    }
  ],
  "metadata": {
    "colab": {
      "provenance": [],
      "authorship_tag": "ABX9TyNr/t1oYuKwVABIFJE0lLrC",
      "include_colab_link": true
    },
    "kernelspec": {
      "display_name": "Python 3",
      "name": "python3"
    },
    "language_info": {
      "name": "python"
    }
  },
  "nbformat": 4,
  "nbformat_minor": 0
}