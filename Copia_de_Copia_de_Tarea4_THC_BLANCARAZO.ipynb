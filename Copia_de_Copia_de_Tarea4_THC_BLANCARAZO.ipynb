{
  "nbformat": 4,
  "nbformat_minor": 0,
  "metadata": {
    "colab": {
      "provenance": [],
      "include_colab_link": true
    },
    "kernelspec": {
      "name": "python3",
      "display_name": "Python 3"
    },
    "language_info": {
      "name": "python"
    }
  },
  "cells": [
    {
      "cell_type": "markdown",
      "metadata": {
        "id": "view-in-github",
        "colab_type": "text"
      },
      "source": [
        "<a href=\"https://colab.research.google.com/github/RazoSoteloBlancaEstrella/23/blob/main/Copia_de_Copia_de_Tarea4_THC_BLANCARAZO.ipynb\" target=\"_parent\"><img src=\"https://colab.research.google.com/assets/colab-badge.svg\" alt=\"Open In Colab\"/></a>"
      ]
    },
    {
      "cell_type": "markdown",
      "source": [
        "<font color=\"Red\" face=\"Comic Sans MS,arial\">\n",
        "  <h1 align=\"center\"><i>Tarea 4 de Python </i></h1>\n",
        "  </font>\n",
        "  \n",
        "> Elaborado por:\n",
        "\n",
        "> Miguel Ángel Carrillo Lucía. miguelcarrillo15@ciencias.unam.mx\n",
        "\n",
        "> Jesús Iván Coss Calderón. mat_ing_coss@ciencias.unam.mx"
      ],
      "metadata": {
        "id": "Acw5GbRohNTA"
      }
    },
    {
      "cell_type": "markdown",
      "source": [
        "**Objetivo general**\n",
        "\n",
        "* Demostrar los conocimientos adquiridos de bucles, listas y estructuras de control.\n",
        "\n",
        "**Objetivos particulares**\n",
        "\n",
        "* Aprender a resolver problemas prácticos usando python"
      ],
      "metadata": {
        "id": "-4IW6Nx2jBHt"
      }
    },
    {
      "cell_type": "markdown",
      "source": [
        "#**Ejercicio 1**:\n",
        "Diseña un programa que convierta dólares americanos a pesos mexicanos, euros, libras\n",
        "esterlinas, yuanes y rublos utilizando una tasa de cambio fija. Muestre la tasa de cambio e imprima los cinco resultados.\n"
      ],
      "metadata": {
        "id": "QZ7aCHF0TYtT"
      }
    },
    {
      "cell_type": "code",
      "source": [
        "# Tasa de cambio fija\n",
        "TASA_DOLAR_A_PESOS = 18.50    # 1 USD a pesos mexicanos\n",
        "TASA_DOLAR_A_EUROS = 0.95     # 1 USD a euros\n",
        "TASA_DOLAR_A_LIBRAS = 0.80    # 1 USD a libras esterlinas\n",
        "TASA_DOLAR_A_YUANES = 6.50    # 1 USD a yuanes\n",
        "TASA_DOLAR_A_RUBLOS = 75.00    # 1 USD a rublos\n",
        "\n",
        "# Para realizar la conversion\n",
        "def convertir_dolares(monto_dolares):\n",
        "  pesos= monto_dolares*TASA_DOLAR_A_PESOS\n",
        "  euros= monto_dolares*TASA_DOLAR_A_EUROS\n",
        "  libras= monto_dolares*TASA_DOLAR_A_LIBRAS\n",
        "  yuanes= monto_dolares*TASA_DOLAR_A_YUANES\n",
        "  rublos= monto_dolares*TASA_DOLAR_A_RUBLOS\n",
        "\n",
        "  return pesos, euros, libras, yuanes, rublos\n",
        "\n",
        "#Solicitar al usuario ingresar la cantidad de dolares\n",
        "try:\n",
        "  monto_dolares=float(input(\"Ingresa la cantidad de dolares: \"))\n",
        "\n",
        "  pesos, euros, libras, yuanes, rublos = convertir_dolares(monto_dolares)\n",
        "\n",
        "#Muestra de las tasas de cambio\n",
        "  print(\"\\nTasas de cambio: \")\n",
        "  print(f\"1 dolar = {TASA_DOLAR_A_PESOS} Pesos Mexicanos \")\n",
        "  print(f\"1 dolar = {TASA_DOLAR_A_EUROS} Euros \")\n",
        "  print(f\"1 dolar = {TASA_DOLAR_A_LIBRAS} Libras \")\n",
        "  print(f\"1 dolar = {TASA_DOLAR_A_YUANES} Yuanes \")\n",
        "  print(f\"1 dolar = {TASA_DOLAR_A_RUBLOS} Rublos \")\n",
        "\n",
        "  # Resultados\n",
        "  print(\"\\nResultados de la conversion: \")\n",
        "  print(f\"{monto_dolares} dolar = {pesos:.2f} Pesos Mexicanos\")\n",
        "  print(f\"{monto_dolares} dolar = {euros:.2f} Euros\")\n",
        "  print(f\"{monto_dolares} dolar = {libras:.2f} Libras\")\n",
        "  print(f\"{monto_dolares} dolar = {yuanes:.2f} Yuanes\")\n",
        "  print(f\"{monto_dolares} dolar = {rublos:.2f} Rublos\")\n",
        "\n",
        "except ValueError:\n",
        "  print(\"Ingrese un numero valido\")"
      ],
      "metadata": {
        "id": "TBR-3raL8Epc",
        "colab": {
          "base_uri": "https://localhost:8080/"
        },
        "outputId": "eaa1c9ad-5158-4238-fbe1-a469ac230319"
      },
      "execution_count": null,
      "outputs": [
        {
          "output_type": "stream",
          "name": "stdout",
          "text": [
            "Ingresa la cantidad de dolares: 120\n",
            "\n",
            "Tasas de cambio: \n",
            "1 dolar = 18.5 Pesos Mexicanos \n",
            "1 dolar = 0.95 Euros \n",
            "1 dolar = 0.8 Libras \n",
            "1 dolar = 6.5 Yuanes \n",
            "1 dolar = 75.0 Rublos \n",
            "\n",
            "Resultados de la conversion: \n",
            "120.0 Dolar = 2220.00 Pesos Mexicanos\n",
            "120.0 Dolar = 114.00 Euros\n",
            "120.0 Dolar = 96.00 Libras\n",
            "120.0 Dolar = 780.00 Yuanes\n",
            "120.0 Dolar = 9000.00 Rublos\n"
          ]
        }
      ]
    },
    {
      "cell_type": "markdown",
      "source": [
        "#**Ejercicio 2**:\n",
        "Escribe un programa que pida al usuario su edad y clasifique la entrada en 'niño',\n",
        " 'adolescente', 'adulto' o 'adulto mayor'."
      ],
      "metadata": {
        "id": "G-aCihICT7hi"
      }
    },
    {
      "cell_type": "code",
      "source": [
        "#Clasificamnos las edades\n",
        "def clasificar_edad(edad):\n",
        "  if edad < 0 :\n",
        "    return \"Edad no valida \"\n",
        "  elif edad <= 12:\n",
        "    return \"Niño \"\n",
        "  elif edad <= 17:\n",
        "    return \"Adolescente \"\n",
        "  elif edad <= 64:\n",
        "    return \"Adulto \"\n",
        "  else:\n",
        "    return \"Adulto mayor\"\n",
        "\n",
        "# solicitar al usuario su edad\n",
        "try:\n",
        "  edad= int(input(\"Ingrese su edad: \"))\n",
        "\n",
        "# Resultado\n",
        "  clasificacion= clasificar_edad(edad)\n",
        "  print(f\"Usted es un {clasificacion} \")\n",
        "\n",
        "except ValueError:\n",
        "  print(\"Por favor, ingrese un número válido para la edad.\")"
      ],
      "metadata": {
        "id": "LeEsrq4p8FOs",
        "colab": {
          "base_uri": "https://localhost:8080/"
        },
        "outputId": "aa2b4408-a8d5-4056-9283-c33a3b236dd2"
      },
      "execution_count": null,
      "outputs": [
        {
          "output_type": "stream",
          "name": "stdout",
          "text": [
            "Ingrese su edad: 120\n",
            "Usted es un Adulto mayor \n"
          ]
        }
      ]
    },
    {
      "cell_type": "markdown",
      "source": [
        "#**Ejercicio 3**:\n",
        "Desarrolla un programa que calcule el precio final de un producto después de aplicar un descuento.\n",
        " El usuario debe ingresar el precio original y el porcentaje de descuento. Imprima el precio final."
      ],
      "metadata": {
        "id": "oM_h9APNTIW9"
      }
    },
    {
      "cell_type": "code",
      "source": [
        "#funcion_precio final\n",
        "def calcular_precio_final(precio_original, porcentaje_descuento):\n",
        "  # calculo del descuento\n",
        "  descuento= precio_original*(porcentaje_descuento / 100)\n",
        "  # calculo del precio final\n",
        "  precio_final= precio_original - descuento\n",
        "  return precio_final\n",
        "\n",
        "#Solicitar al usuario el precio original\n",
        "try:\n",
        "  precio_original= float(input(\"Ingrese el precio original del producto: \"))\n",
        "  #Solicitar el porcentaje de descuento\n",
        "  porcentaje_descuento= float(input(\"Ingresa el porcentaje de descuento: \"))\n",
        "\n",
        "  # Resultados\n",
        "  precio_final = calcular_precio_final(precio_original, porcentaje_descuento)\n",
        "  print(f\"El precio final, con el descuento de {porcentaje_descuento}% aplicado es de: ${precio_final:.2f}\")\n",
        "\n",
        "except ValueError:\n",
        "  print(\"Ingrese un número válido \")"
      ],
      "metadata": {
        "id": "ay0KWLXf8F5k",
        "colab": {
          "base_uri": "https://localhost:8080/"
        },
        "outputId": "59db0c5a-e546-4643-87f3-5fba8fbd09b3"
      },
      "execution_count": null,
      "outputs": [
        {
          "output_type": "stream",
          "name": "stdout",
          "text": [
            "Ingrese el precio original del producto: 132\n",
            "Ingresa el porcentaje de descuento: 50\n",
            "El precio final, con el descuento de 50.0% aplicado es de: $66.00\n"
          ]
        }
      ]
    },
    {
      "cell_type": "markdown",
      "source": [
        "#**Ejercicio 4**:\n",
        "Crea un script que determine cuál de tres números introducidos por el usuario es el mayor,\n",
        "usando sentencias IF anidadas o múltiples ELIF."
      ],
      "metadata": {
        "id": "pXTw_US7UIhy"
      }
    },
    {
      "cell_type": "code",
      "source": [
        "#Solicitar al usuariuo los tres numeros\n",
        "try:\n",
        "  num1= float(input(\"Ingrese un primer numero: \"))\n",
        "  num2= float(input(\"Ingrese un segundo numero: \"))\n",
        "  num3= float(input(\"Ingrese un tercer numero: \"))\n",
        "\n",
        "  #Determinar usando \"if\"\n",
        "  if num1 >= num2 and num1 >= num3:\n",
        "      mayor = num1\n",
        "  elif num2 >= num1 and num2 >= num3:\n",
        "      mayor = num2\n",
        "  else:\n",
        "      mayor = num3\n",
        "\n",
        "#Resultado\n",
        "  print(f\"El numero mayor es: {mayor}\")\n",
        "\n",
        "except ValueError:\n",
        "  print(\"Por favor, ingrese un número válido \")\n"
      ],
      "metadata": {
        "id": "oSJXRXBb8Gck",
        "colab": {
          "base_uri": "https://localhost:8080/"
        },
        "outputId": "3cf08e1b-ebf6-49be-c63c-43e5d285292b"
      },
      "execution_count": null,
      "outputs": [
        {
          "output_type": "stream",
          "name": "stdout",
          "text": [
            "Ingrese un primer numero: 2456\n",
            "Ingrese un segundo numero: 22\n",
            "Ingrese un tercer numero: 123\n",
            "El numero mayor es: 2456.0\n"
          ]
        }
      ]
    },
    {
      "cell_type": "markdown",
      "source": [
        "#**Ejercicio 5**:\n",
        "Programe una función que resuelva ecuaciones de segundo grado utilizando la fórmula general.\n",
        "El usuario debe ingresar los valores de a, b y c. Genere valores por default por si el usuario no ingresa\n",
        "un número entero o flotante. Además, calcule el valor del discriminante\n",
        "(b^2 - 4ac) y determine si tiene soluciones reales, soluciones complejas. Imprima el resultado."
      ],
      "metadata": {
        "id": "LJgQNYz1Tmaj"
      }
    },
    {
      "cell_type": "code",
      "source": [
        "\n",
        "def resolver_ecuacion_2grado(a, b, c):\n",
        "  #calcualr el descriminante\n",
        "  discriminante= b**2 - 4*a*c\n",
        "\n",
        "  #dos soluciones reales distintas\n",
        "  if discriminante > 0:\n",
        "    x1= (-b + discriminante**0.5) / (2*a)\n",
        "    x2= (-b - discriminante**0.5) / (2*a)\n",
        "    return (x1, x2, \"Dos soluciones reales distintas.\")\n",
        "  elif discriminante == 0:\n",
        "    #con solucion real\n",
        "    x= -b / (2*a)\n",
        "    return (x, None, \"Una solución real (raíz doble).\")\n",
        "  else:\n",
        "    #con solucion compleja\n",
        "    parte_real = -b / (2*a)\n",
        "    parte_imaginaria= (abs(discriminante)**0.5) / (2*a)\n",
        "    x1= complex(parte_real, parte_imaginaria)\n",
        "    x2= complex(parte_real, -parte_imaginaria)\n",
        "    return (x1, x2, \"Dos soluciones complejas.\")\n",
        "\n",
        "def obtener_valor_float(mensaje, valor_por_defecto):\n",
        "  try:\n",
        "    return float(input(mensaje))\n",
        "  except ValueError:\n",
        "    return valor_por_defecto\n",
        "#valores por defecto\n",
        "valor_por_defecto_a=0\n",
        "valor_por_defecto_b=0\n",
        "valor_por_defecto_c=0\n",
        "\n",
        "a= obtener_valor_float(\"Ingrese el valor de a (en caso de no haber, ingrese 0): \", valor_por_defecto_a )\n",
        "b= obtener_valor_float(\"Ingrese el valor de a (en caso de no haber, ingrese 0): \", valor_por_defecto_b )\n",
        "c= obtener_valor_float(\"Ingrese el valor de a (en caso de no haber, ingrese 0): \", valor_por_defecto_c )\n",
        "\n",
        "#Resultado\n",
        "soluciones = resolver_ecuacion_2grado(a, b, c)\n",
        "#mensajes\n",
        "if soluciones[1] is not None:\n",
        "  print(f\"Las soluciones son: {soluciones[0]} y {soluciones[1]}\")\n",
        "else:\n",
        "  print(f\"La solución es: {soluciones[0]}\")\n",
        "print(soluciones[2])"
      ],
      "metadata": {
        "id": "L1CQPnlC8G9c",
        "colab": {
          "base_uri": "https://localhost:8080/"
        },
        "outputId": "02aee589-f231-4bfa-83b9-060c6fddb03e"
      },
      "execution_count": null,
      "outputs": [
        {
          "output_type": "stream",
          "name": "stdout",
          "text": [
            "Ingrese el valor de a (en caso de no haber, ingrese 0): 1\n",
            "Ingrese el valor de a (en caso de no haber, ingrese 0): 6\n",
            "Ingrese el valor de a (en caso de no haber, ingrese 0): 8\n",
            "Las soluciones son: -2.0 y -4.0\n",
            "Dos soluciones reales distintas.\n"
          ]
        }
      ]
    },
    {
      "cell_type": "markdown",
      "source": [
        "#**Ejercicio 6**\n",
        "\n",
        " Escriba una función que reciba una lista de números y devuelva dos listas: una con los números positivos y otra con los negativos."
      ],
      "metadata": {
        "id": "1VC6sG1wix_2"
      }
    },
    {
      "cell_type": "code",
      "source": [
        "def lista(lista_numeros):\n",
        "  positivos=[]\n",
        "  negativos=[]\n",
        "\n",
        "  for numero in lista_numeros:\n",
        "    if numero >= 0:\n",
        "      positivos.append(numero)\n",
        "    else:\n",
        "      negativos.append(numero)\n",
        "\n",
        "  return positivos, negativos\n",
        "\n",
        "#solicitar al usuario la lista de numeros\n",
        "entrada= input(\"Ingresa una lista de numeros separados por comas: \")\n",
        "\n",
        "try:\n",
        "  lista_numeros= [float(num) for num in entrada.split(\",\")]\n",
        "\n",
        "  #funcion\n",
        "  positivos, negativos= lista(lista_numeros)\n",
        "  #Resultados\n",
        "  print(\"Los numeros negativos de la lista son: \", negativos)\n",
        "  print(\"Los numeros positivos de la lista son: \", positivos)\n",
        "\n",
        "except ValueError:\n",
        "  print(\"Ingrese una lista de numeros validos \")\n"
      ],
      "metadata": {
        "id": "j-nKpLKG8HdU",
        "colab": {
          "base_uri": "https://localhost:8080/"
        },
        "outputId": "be00fdb9-3936-414b-e503-bd9d6b8f27b1"
      },
      "execution_count": null,
      "outputs": [
        {
          "output_type": "stream",
          "name": "stdout",
          "text": [
            "Ingresa una lista de numeros separados por comas: 23,45,-65,-76,45\n",
            "Los numeros negativos de la lista son:  [-65.0, -76.0]\n",
            "Los numeros positivos de la lista son:  [23.0, 45.0, 45.0]\n"
          ]
        }
      ]
    },
    {
      "cell_type": "markdown",
      "source": [
        "#**Ejercicio 7**\n",
        "\n",
        "Escriba una función que reciba una lista de datos (la de abajo) y devuelva listas con los datos filtrados. Este programa debe separar los datos en **int**, **str**, **bool**, **float**. **Hint**: use la función **append** para insertar datos en las listas."
      ],
      "metadata": {
        "id": "B3DOqZgpjxMf"
      }
    },
    {
      "cell_type": "code",
      "source": [
        "Datos= [5, 2.4, \"hola\", 7, 10, 3.14,True,False, \"Hi\", 0, 0.265]# lista a usar"
      ],
      "metadata": {
        "id": "5zQMRLNYis12"
      },
      "execution_count": null,
      "outputs": []
    },
    {
      "cell_type": "code",
      "source": [
        "def filtrar_datos(datos):\n",
        "  enteros=[]\n",
        "  cadenas=[]\n",
        "  booleanos= [] #son un tipo de dato que representa dos valores posibles: verdadero (true) o falso (false)\n",
        "  flotantes=[]\n",
        "\n",
        "  for dato in datos:\n",
        "    if isinstance(dato, int) and not isinstance(dato, bool):  # Filtra enteros excluyendo booleanos\n",
        "      enteros.append(dato)\n",
        "    elif isinstance(dato, str):\n",
        "      cadenas.append(dato)\n",
        "    elif isinstance(dato, bool):\n",
        "      booleanos.append(dato)\n",
        "    elif isinstance(dato, float):\n",
        "      flotantes.append(dato)\n",
        "\n",
        "  return enteros, cadenas, booleanos, flotantes\n",
        "#lista a usar\n",
        "datos= [5, 2.4, \"hola\", 7, 10, 3.14,True,False, \"Hi\", 0, 0.265]\n",
        "\n",
        "enteros, cadenas, booleanos, flotantes= filtrar_datos(datos)\n",
        "\n",
        "#Resultados\n",
        "print(\"Numeros enteros: \", enteros)\n",
        "print(\"Cadenas de texto: \", cadenas)\n",
        "print(\"Valores booleanos: \", booleanos)\n",
        "print(\"Numeros flotantes: \", flotantes)\n"
      ],
      "metadata": {
        "id": "0HH0Debs8Joc",
        "colab": {
          "base_uri": "https://localhost:8080/"
        },
        "outputId": "a188fc5c-8966-4120-9e83-68a3468c7e89"
      },
      "execution_count": null,
      "outputs": [
        {
          "output_type": "stream",
          "name": "stdout",
          "text": [
            "Numeros enteros:  [5, 7, 10, 0]\n",
            "Cadenas de texto:  ['hola', 'Hi']\n",
            "Valores booleanos:  [True, False]\n",
            "Numeros flotantes:  [2.4, 3.14, 0.265]\n"
          ]
        }
      ]
    },
    {
      "cell_type": "markdown",
      "source": [
        "#**Ejercicio 8**:\n",
        "\n",
        "Imprimir pirámide de asteriscos\n",
        "Descripción: Crea una función que imprima una pirámide de asteriscos usando bucles anidados, donde el número de niveles de la pirámide sea un valor dado."
      ],
      "metadata": {
        "id": "Q7XYGpfGkuD4"
      }
    },
    {
      "cell_type": "code",
      "source": [
        "def piramide_asteriscos(niveles):\n",
        "\n",
        "piramide_asteriscos(5)\n",
        "# Resultado:\n",
        "# *\n",
        "# **\n",
        "# ***\n",
        "# ****\n",
        "# *****\n"
      ],
      "metadata": {
        "colab": {
          "base_uri": "https://localhost:8080/"
        },
        "id": "lKlZ67KRkXwn",
        "outputId": "78bd0f90-baf8-41bc-9243-ffad50b18531"
      },
      "execution_count": null,
      "outputs": [
        {
          "output_type": "stream",
          "name": "stdout",
          "text": [
            "*\n",
            "**\n",
            "***\n",
            "****\n",
            "*****\n"
          ]
        }
      ]
    },
    {
      "cell_type": "code",
      "source": [
        "def piramide_asteriscos(niveles):\n",
        "  for i in range(niveles):\n",
        "    print(\" \" * (niveles - i - 1), end=\"\") #centra los asteriscos, utilizando espacios\n",
        "    print(\"*\" * (2* i +1)) #imprime asteriscos deacuerdo a su nivel\n",
        "\n",
        "#solicitar al usuario el numero de niveles\n",
        "niveles= int(input(\"Ingrese el numero de niveles de la piramide: \"))\n",
        "piramide_asteriscos(niveles)"
      ],
      "metadata": {
        "colab": {
          "base_uri": "https://localhost:8080/"
        },
        "id": "ci_fyd00l9Gz",
        "outputId": "b89810ad-40a4-40b5-f1ef-79ed348339ec"
      },
      "execution_count": null,
      "outputs": [
        {
          "output_type": "stream",
          "name": "stdout",
          "text": [
            "Ingrese el numero de niveles de la piramide: 6\n",
            "     *\n",
            "    ***\n",
            "   *****\n",
            "  *******\n",
            " *********\n",
            "***********\n"
          ]
        }
      ]
    },
    {
      "cell_type": "markdown",
      "source": [
        "#**Ejercicio 9**:\n",
        "\n",
        "Escriba una función que calcule el factorial de un número, el cual debe ser ingresado por el usuario, después usted debe validar que sea un número natural mayor o igual a cero y en caso de que ingrese un número negativo, una letra o cadena, debe pedir nuevamente el número al usuario."
      ],
      "metadata": {
        "id": "xL6YMsdClOy9"
      }
    },
    {
      "cell_type": "code",
      "source": [
        "def calcular_factorial():\n",
        "  while True:\n",
        "    try:\n",
        "      #Solicitar al usuario que ingrese un numero\n",
        "      numero= int(input(\"Ingresa un numero natural para calcular su factorial: \"))\n",
        "\n",
        "      #validar que el numero se mayor o igual a 0\n",
        "      if numero <0:\n",
        "        print(\"El numero debe ser mayor o igual a 0. Intente nuevamente \")\n",
        "      else:\n",
        "        break #Salida del bucle si es valido\n",
        "\n",
        "    except ValueError:\n",
        "      print(\"Entrada no valida. Ingrese un numero entero \")\n",
        "\n",
        "#calculo del factorial\n",
        "  factorial =1\n",
        "  for i in range(1, numero +1):\n",
        "    factorial *=i\n",
        "\n",
        "  print(f\"El factorial del numero {numero} es: {factorial} \")\n",
        "\n",
        "calcular_factorial()\n"
      ],
      "metadata": {
        "id": "JYhyNp21l43j",
        "colab": {
          "base_uri": "https://localhost:8080/"
        },
        "outputId": "aa21e99f-7998-41ff-c937-6b1616db2914"
      },
      "execution_count": null,
      "outputs": [
        {
          "output_type": "stream",
          "name": "stdout",
          "text": [
            "Ingresa un numero natural para calcular su factorial: -7\n",
            "El numero debe ser mayor o igual a 0. Intente nuevamente \n",
            "Ingresa un numero natural para calcular su factorial: sdf\n",
            "Entrada no valida. Ingrese un numero entero \n",
            "Ingresa un numero natural para calcular su factorial: 5\n",
            "El factorial del numero 5 es: 120 \n"
          ]
        }
      ]
    },
    {
      "cell_type": "markdown",
      "source": [
        "#**Ejercicio 10**:\n",
        "Programar una función que calcule la distancia entre dos puntos en el plano cartesiano,\n",
        "dadas sus coordenadas (x1, y1) y (x2, y2)."
      ],
      "metadata": {
        "id": "8z6e_aduTxWh"
      }
    },
    {
      "cell_type": "code",
      "source": [
        "import math\n",
        "def calcular_distancia(x1, y1, x2, y2):\n",
        "  distancia = math.sqrt((x2 - x1)**2 + (y2 - y1)**2)\n",
        "  return distancia\n",
        "\n",
        "#Solicitar al usuario las coordenadas\n",
        "try:\n",
        "  x1 = float(input(\"Ingrese la coordenada x1 del primer punto: \"))\n",
        "  y1 = float(input(\"Ingrese la coordenada y1 del primer punto: \"))\n",
        "  x2 = float(input(\"Ingrese la coordenada x2 del segundo punto: \"))\n",
        "  y2 = float(input(\"Ingrese la coordenada y2 del segundo punto: \"))\n",
        "\n",
        "  #calculo de la distancia\n",
        "  distancia = calcular_distancia(x1, y1, x2, y2)\n",
        "  print(f\"La distancia entre los puntos ({x1}, {y1}) y ({x2}, {y2}) es de: {distancia:.2f}\")\n",
        "\n",
        "except ValueError:\n",
        "  print(\"Ingrese valores numericos validos para las coordenadas\")"
      ],
      "metadata": {
        "id": "rKes7ySm8LJy",
        "colab": {
          "base_uri": "https://localhost:8080/"
        },
        "outputId": "0f42a15e-e6f4-4c94-d6f5-da25c355fac6"
      },
      "execution_count": null,
      "outputs": [
        {
          "output_type": "stream",
          "name": "stdout",
          "text": [
            "Ingrese la coordenada x1 del primer punto: 4\n",
            "Ingrese la coordenada y1 del primer punto: 5\n",
            "Ingrese la coordenada x2 del segundo punto: 6\n",
            "Ingrese la coordenada y2 del segundo punto: 7\n",
            "La distancia entre los puntos (4.0, 5.0) y (6.0, 7.0) es de: 2.83\n"
          ]
        }
      ]
    },
    {
      "cell_type": "markdown",
      "source": [
        "#**Ejercicio 11**:\n",
        "Programe un script que determine si dos rectas dadas por las ecuaciones y1=m1x + b1 y y2=m2x+b2 se\n",
        "intersectan, son paralelas o coincidentes. Utilice estructuras de control (IF - ELSE)\n",
        "para manejar los diferentes casos.\n"
      ],
      "metadata": {
        "id": "YZ1CmeGNUfd6"
      }
    },
    {
      "cell_type": "code",
      "source": [],
      "metadata": {
        "id": "oTNVz98W8LuZ"
      },
      "execution_count": null,
      "outputs": []
    },
    {
      "cell_type": "markdown",
      "source": [
        "#**Ejercicio 12**:\n",
        "Iván y Miguel quieren jugar a los dados con las siguientes reglas:\n",
        "\n",
        "    Si sale 1, vuelven a lanzar.\n",
        "    Si sale 6, quedan empatados.\n",
        "    Si sale 2 ó 3 gana Iván.\n",
        "    Si sale 4 ó 5 gana Miguel.\n",
        "\n",
        "Haga un programa que le permita jugar a Iván y Miguel utilizando el condicional while. Se debe imprimir el mensaje de acuerdo a las reglas establecidas.\n",
        "**Hint** = Utilice la librería random para generar los números aleatorios."
      ],
      "metadata": {
        "id": "qdHirPx6I2ib"
      }
    },
    {
      "cell_type": "code",
      "source": [],
      "metadata": {
        "id": "dDHP_-CG8Nqg"
      },
      "execution_count": null,
      "outputs": []
    }
  ]
}