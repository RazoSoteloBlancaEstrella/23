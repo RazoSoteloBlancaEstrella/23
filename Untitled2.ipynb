{
  "nbformat": 4,
  "nbformat_minor": 0,
  "metadata": {
    "colab": {
      "provenance": [],
      "authorship_tag": "ABX9TyPDkZ8mXQObSVSYWWbYW/+G",
      "include_colab_link": true
    },
    "kernelspec": {
      "name": "python3",
      "display_name": "Python 3"
    },
    "language_info": {
      "name": "python"
    }
  },
  "cells": [
    {
      "cell_type": "markdown",
      "metadata": {
        "id": "view-in-github",
        "colab_type": "text"
      },
      "source": [
        "<a href=\"https://colab.research.google.com/github/RazoSoteloBlancaEstrella/23/blob/main/Untitled2.ipynb\" target=\"_parent\"><img src=\"https://colab.research.google.com/assets/colab-badge.svg\" alt=\"Open In Colab\"/></a>"
      ]
    },
    {
      "cell_type": "markdown",
      "source": [
        "Del repositorio de Github, Nivel Básico, Fundamentos de Programación, Variables, Ejercicios: 1, 2, 4, 6 y 10.\n"
      ],
      "metadata": {
        "id": "PSfSuC8MYkU4"
      }
    },
    {
      "cell_type": "markdown",
      "source": [
        "Calculadora Simple: Crea un programa que solicite al usuario dos números y realice operaciones básicas como suma, resta, multiplicación y división. Muestra los resultados usando variables."
      ],
      "metadata": {
        "id": "6hqrRQpoZ2_w"
      }
    },
    {
      "cell_type": "code",
      "execution_count": null,
      "metadata": {
        "colab": {
          "base_uri": "https://localhost:8080/"
        },
        "id": "WRaxQB6mYLYZ",
        "outputId": "7dc00346-f638-4f10-a9be-ee76ec612d85"
      },
      "outputs": [
        {
          "output_type": "stream",
          "name": "stdout",
          "text": [
            "Write a first number 39\n",
            "Write a second number 3\n",
            "The sum of 39 and 3 is equal to 42\n",
            "The subtraction of 39 and 3 is equal to 36\n",
            "The multiplication of 39 and 3 is equal to 117\n",
            "The division of 39 and 3 is equal to 13.0\n"
          ]
        }
      ],
      "source": [
        "OneNum=int(input(\"Write a first number \"))\n",
        "TwoNum=int(input(\"Write a second number \"))\n",
        "\n",
        "#operaciones\n",
        "sum= OneNum + TwoNum\n",
        "sub= OneNum - TwoNum  #subtraction\n",
        "mult= OneNum * TwoNum  #multiplication\n",
        "div= OneNum / TwoNum   #division\n",
        "\n",
        "#resultados\n",
        "print(\"The sum of \" + str(OneNum) + \" and \" +str(TwoNum) + \" is equal to \" + str(sum))\n",
        "print(\"The subtraction of \" + str(OneNum) + \" and \" +str(TwoNum) + \" is equal to \" + str(sub))\n",
        "print(\"The multiplication of \" + str(OneNum) + \" and \" +str(TwoNum) + \" is equal to \" + str(mult))\n",
        "print(\"The division of \" + str(OneNum) + \" and \" +str(TwoNum) + \" is equal to \" + str(div))\n"
      ]
    },
    {
      "cell_type": "markdown",
      "source": [
        "Conversión de Temperaturas: Escribe un programa que permita al usuario ingresar una temperatura en grados Celsius y luego la convierta a grados Fahrenheit utilizando una variable para almacenar la fórmula de conversión."
      ],
      "metadata": {
        "id": "TTyNLBh6rT7V"
      }
    },
    {
      "cell_type": "code",
      "source": [
        "C= int(input(\"Write a first number \"))  #Celsius\n",
        "\n",
        "#De celsius a Fahrenheit\n",
        "F= (C * 9/5) + 32  #Fahrenheit\n",
        "\n",
        "#resultados\n",
        "print(str(C) + \" degrees Celsius equals \" + str(F) + \" degrees Fahrenheit.\")"
      ],
      "metadata": {
        "colab": {
          "base_uri": "https://localhost:8080/"
        },
        "id": "AhxGMN4TsC3j",
        "outputId": "08c02329-3bb1-4ef5-f328-c515ee80833f"
      },
      "execution_count": null,
      "outputs": [
        {
          "output_type": "stream",
          "name": "stdout",
          "text": [
            "Write a first number 75\n",
            "75 degrees Celsius equals 167.0 degrees Fahrenheit.\n"
          ]
        }
      ]
    },
    {
      "cell_type": "markdown",
      "source": [
        "Contador de Palabras: Crea un programa que tome una cadena de texto ingresada por el usuario y cuente cuántas palabras contiene. Utiliza una variable para mantener el contador."
      ],
      "metadata": {
        "id": "0BkkG7Jpxtoe"
      }
    },
    {
      "cell_type": "code",
      "source": [
        "text= (input(\"enter a text \"))\n",
        "contador= len(text.split())\n",
        "\n",
        "#Resultado\n",
        "print(\"the text contains \" + str(contador) + \" words\")"
      ],
      "metadata": {
        "colab": {
          "base_uri": "https://localhost:8080/"
        },
        "id": "4KyWNMdMxyme",
        "outputId": "7acf2f28-736d-4c04-cff7-ef897a0590c6"
      },
      "execution_count": null,
      "outputs": [
        {
          "output_type": "stream",
          "name": "stdout",
          "text": [
            "enter a text hola soy marco\n",
            "the text contains 3 words\n"
          ]
        }
      ]
    },
    {
      "cell_type": "markdown",
      "source": [
        "Cálculo del Promedio: Escribe un programa que permita al usuario ingresar una lista de números separados por comas y luego calcule su promedio utilizando variables."
      ],
      "metadata": {
        "id": "Ms5ZAuHU4phS"
      }
    },
    {
      "cell_type": "code",
      "source": [
        "numeros= input(\"write a list of numbers separated by commas \")\n",
        "\n",
        "lista_numeros= [float(num) for num in numeros.split(\",\")]\n",
        "\n",
        "suma=0\n",
        "contador=0\n",
        "\n",
        "for num in lista_numeros:\n",
        "  suma+= num\n",
        "  contador +=1\n",
        "\n",
        "promedio= suma / contador\n",
        "\n",
        "print(\"The average of the numbers is \" + str(promedio))"
      ],
      "metadata": {
        "colab": {
          "base_uri": "https://localhost:8080/"
        },
        "id": "UT2LTSNBD6-t",
        "outputId": "6fa5f365-1d7c-4af2-a71f-96d3ca0de57e"
      },
      "execution_count": null,
      "outputs": [
        {
          "output_type": "stream",
          "name": "stdout",
          "text": [
            "write a list of numbers separated by commas 10,10\n",
            "The average of the numbers is 10.0\n"
          ]
        }
      ]
    },
    {
      "cell_type": "markdown",
      "source": [
        "Registro de Estudiantes: Crea un programa que permita a un profesor registrar los nombres y calificaciones de varios estudiantes. Utiliza variables para almacenar los nombres, calificaciones y calcular el promedio."
      ],
      "metadata": {
        "id": "ENA9XEHsFQa_"
      }
    },
    {
      "cell_type": "code",
      "source": [
        "Num_estudiantes= int(input(\"How many students do you want to register? \"))\n",
        "\n",
        "registro_estudiantes = {}\n",
        "\n",
        "suma_calificaciones = 0\n",
        "\n",
        "for i in range(Num_estudiantes):\n",
        "  nombre= input(\"enter the name of the student \" + str(i+1))\n",
        "  calificacion= float(input(\"Introduce la calificación de \" + str(nombre)))\n",
        "\n",
        "  registro_estudiantes[nombre] = calificacion\n",
        "  suma_calificaciones += calificacion\n",
        "\n",
        "promedio = suma_calificaciones / Num_estudiantes\n",
        "\n",
        "\n",
        "print(\"\\nRegistro de estudiantes:\")\n",
        "for nombre, calificacion in registro_estudiantes.items():\n",
        "  print(\"Estudiante: \" +str(nombre) + \", Calificación: \" +str(calificacion))\n",
        "\n",
        "print(f\"\\nEl promedio de las calificaciones es: {promedio:.2f}\")"
      ],
      "metadata": {
        "colab": {
          "base_uri": "https://localhost:8080/"
        },
        "id": "mR84aSY_d8HJ",
        "outputId": "8c8c8667-01e7-4d4d-ad80-2f00524728ab"
      },
      "execution_count": null,
      "outputs": [
        {
          "output_type": "stream",
          "name": "stdout",
          "text": [
            "How many students do you want to register? 3\n",
            "enter the name of the student 1marco\n",
            "Introduce la calificación de marco10\n",
            "enter the name of the student 2julia\n",
            "Introduce la calificación de julia3\n",
            "enter the name of the student 3may\n",
            "Introduce la calificación de may5\n",
            "\n",
            "Registro de estudiantes:\n",
            "Estudiante: marco, Calificación: 10.0\n",
            "Estudiante: julia, Calificación: 3.0\n",
            "Estudiante: may, Calificación: 5.0\n",
            "\n",
            "El promedio de las calificaciones es: 6.00\n"
          ]
        }
      ]
    }
  ]
}