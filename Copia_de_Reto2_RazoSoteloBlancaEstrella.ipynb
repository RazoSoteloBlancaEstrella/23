{
  "nbformat": 4,
  "nbformat_minor": 0,
  "metadata": {
    "colab": {
      "provenance": [],
      "authorship_tag": "ABX9TyO10yvgXTlHRuS+XMWRHKHv",
      "include_colab_link": true
    },
    "kernelspec": {
      "name": "python3",
      "display_name": "Python 3"
    },
    "language_info": {
      "name": "python"
    }
  },
  "cells": [
    {
      "cell_type": "markdown",
      "metadata": {
        "id": "view-in-github",
        "colab_type": "text"
      },
      "source": [
        "<a href=\"https://colab.research.google.com/github/RazoSoteloBlancaEstrella/23/blob/main/Copia_de_Reto2_RazoSoteloBlancaEstrella.ipynb\" target=\"_parent\"><img src=\"https://colab.research.google.com/assets/colab-badge.svg\" alt=\"Open In Colab\"/></a>"
      ]
    },
    {
      "cell_type": "markdown",
      "source": [
        "RELOJ MUNDIAL"
      ],
      "metadata": {
        "id": "K8lRlDimfcuu"
      }
    },
    {
      "cell_type": "code",
      "execution_count": null,
      "metadata": {
        "colab": {
          "base_uri": "https://localhost:8080/"
        },
        "id": "Bdv-PKAlDHn8",
        "outputId": "ac975404-bbe1-4545-c7bb-492eb180324c"
      },
      "outputs": [
        {
          "output_type": "stream",
          "name": "stdout",
          "text": [
            "Ingrese la hora en Ciudad de México en formato hh:mm (ejm. 15:30): 24:54\n",
            "Error: La hora debe estar entre 00 y 23. Ingrese nuevamente\n",
            "Ingrese la hora en Ciudad de México en formato hh:mm (ejm. 15:30): 23:60\n",
            "Error: Los minutos deben estar entre 00 y 59. Ingrese nuevamente\n",
            "Ingrese la hora en Ciudad de México en formato hh:mm (ejm. 15:30): 34:65\n",
            "Error: La hora debe estar entre 00 y 23 y los minutos entre 00 y 59. Ingrese nuevamente\n",
            "Ingrese la hora en Ciudad de México en formato hh:mm (ejm. 15:30): 23:54\n",
            "Hora en Ciudad de México: 23:54\n",
            "Hora en Tokio, Japón: 14:53\n",
            "Hora en Pekín, China: 13:53\n",
            "Hora en Dusambé, Tayikistán: 11:53\n",
            "Hora en Perth, Australia: 13:53\n",
            "Hora en Katmandú, Nepal: 11:38\n",
            "Hora en Vilna, Lituania: 07:53\n",
            "Hora en Freetown, Sierra Leona: 05:53\n",
            "Hora en Rio de Janeiro, Brasil: 01:53\n",
            "Hora en Tegucigalpa, Honduras: 22:53\n",
            "Hora en Kingston, Jamaica: 22:53\n",
            "Hora en Los Ángeles, EUA: 21:53\n"
          ]
        }
      ],
      "source": [
        "#Reloj mundial\n",
        "#Diferencias horarias en horas con respecto a la Ciudad de México\n",
        "ciudades= [\n",
        "    (\"Tokio, Japón\", 15), #significa que Tokio está 15 horas por delante de Ciudad de México.\n",
        "    (\"Pekín, China\", 14), #//14\n",
        "    (\"Dusambé, Tayikistán\", 12),\n",
        "    (\"Perth, Australia\", 14),\n",
        "    (\"Katmandú, Nepal\", 11.75),\n",
        "    (\"Vilna, Lituania\", 8),\n",
        "    (\"Freetown, Sierra Leona\", 6),\n",
        "    (\"Rio de Janeiro, Brasil\", 2),\n",
        "    (\"Tegucigalpa, Honduras\", -1),\n",
        "    (\"Kingston, Jamaica\", -1),\n",
        "    (\"Los Ángeles, EUA\", -2) #significa que Los Ángeles está 2 horas detrás de Ciudad de México.\n",
        "]\n",
        "#Funcion lambda\n",
        "#Esta función ajusta la hora a un formato de 24 horas mediante el uso de \"hora % 24\". Si la suma de la hora en Ciudad de México y la diferencia horaria supera las 24 horas, se ajusta para que siempre esté en el rango de 0 a 23.\n",
        "ajustar_hora = lambda hora: hora % 24\n",
        "\n",
        "def reloj_mundial(hora_mexico, minutos_mexico):\n",
        "\n",
        "    #calcular la hora en decimal\n",
        "    hora_decimal_mexico= hora_mexico + minutos_mexico / 60\n",
        "    #Diccionario para almacenar las horas en cada ciudad\n",
        "    horas_ciudades={}\n",
        "\n",
        "    for ciudad, diferencia in ciudades:\n",
        "        #Calcular la hora local en cada ciudad sumando la diferencia horaria\n",
        "        hora_ciudad= ajustar_hora(hora_decimal_mexico + diferencia)\n",
        "        #Convierte la hora en decimal a formato hh:mm\n",
        "        horas= int(hora_ciudad)\n",
        "        minutos= int((hora_ciudad - horas)* 60)\n",
        "        #Guardar la hora calculada en el diccionario\n",
        "        horas_ciudades[ciudad]=f\"{horas:02}:{minutos:02}\"\n",
        "\n",
        "    #Dar las horas de cada ciudad\n",
        "    print(f\"Hora en Ciudad de México: {hora_mexico:02}:{minutos_mexico:02}\")\n",
        "    for ciudad, hora in horas_ciudades.items():\n",
        "          print(f\"Hora en {ciudad}: {hora}\")\n",
        "\n",
        "def solicitar_hora():\n",
        "  #Solicita una hora en formato \"hh:mm\" y valida que esté en el formato correcto. Retorna la hora y los minutos separados como enteros.\n",
        "\n",
        "    while True:\n",
        "      entrada=input(\"Ingrese la hora en Ciudad de México en formato hh:mm (ejm. 15:30): \")\n",
        "      try:\n",
        "          hora,minutos=map(int, entrada.split(\":\")) #Toma el valor ingresado por el usuario en el formato \"hh:mm\" y lo divide en una lista de dos elementos, [hh, mm], usando el carácter : como delimitador.\n",
        "          if 0 <= hora < 24 and 0 <= minutos < 60:\n",
        "              return hora, minutos\n",
        "          elif not (0 <= hora < 24) and not (0 <= minutos < 60):\n",
        "              print(\"Error: La hora debe estar entre 00 y 23 y los minutos entre 00 y 59. Ingrese nuevamente\")\n",
        "          elif not (0 <= hora < 24):\n",
        "              print(\"Error: La hora debe estar entre 00 y 23. Ingrese nuevamente\")\n",
        "          elif not (0 <= minutos < 60):\n",
        "              print(\"Error: Los minutos deben estar entre 00 y 59. Ingrese nuevamente\")\n",
        "      except ValueError:\n",
        "          print(\"Formato inválido. Use el formato hh:mm, con minutos entre 00 y 59.\")\n",
        "\n",
        "#Solicitar la hora al usuario y ejecutar el reloj mundial\n",
        "hora_mexico, minutos_mexico = solicitar_hora()\n",
        "reloj_mundial(hora_mexico, minutos_mexico)"
      ]
    },
    {
      "cell_type": "markdown",
      "source": [
        "JUEGO DE PIEDRA, PAPEL O TIJERAS"
      ],
      "metadata": {
        "id": "87LxyKPAmu-M"
      }
    },
    {
      "cell_type": "code",
      "source": [
        "import random #funciones para generar números aleatorios y hacer selecciones aleatorias.\n",
        "def juego():\n",
        "  opciones= [\"piedra\", \"papel\", \"tijeras\"]\n",
        "#muestra de resultados\n",
        "  while True:\n",
        "    jugador=input(\"Elige piedra, papel o tijeras: \")\n",
        "    if jugador not in opciones:\n",
        "      print(\"Opcion no valida. Ingresa o piedra, papel o tijeras: \")\n",
        "      continue\n",
        "\n",
        "    computadora= random.choice(opciones) #elecciona aleatoriamente un elemento de la lista (piedra, papel o tijeras)\n",
        "    print(f\"La computadora elige: {computadora}\")\n",
        "#comparacion de las elecciones\n",
        "    if jugador==computadora:\n",
        "      print(\"Es un empate, juguemos otra vez!\")\n",
        "    elif (jugador == \"piedra\" and computadora == \"tijeras\") or \\\n",
        "         (jugador == \"tijeras\" and computadora == \"papel\") or \\\n",
        "         (jugador == \"papel\" and computadora == \"piedra\"):\n",
        "        print(\"¡Ganastes!\")\n",
        "        break\n",
        "    else:\n",
        "        print(\"Perdiste. Intenta de nuevo\")\n",
        "#iniciar el juego\n",
        "juego()\n"
      ],
      "metadata": {
        "colab": {
          "base_uri": "https://localhost:8080/"
        },
        "id": "quPCRzQqHxWr",
        "outputId": "fe643137-21d9-459a-e7e1-9ac932854d22"
      },
      "execution_count": null,
      "outputs": [
        {
          "output_type": "stream",
          "name": "stdout",
          "text": [
            "Elige piedra, papel o tijeras: papel\n",
            "La computadora elige: papel\n",
            "Es un empate, juguemos otra vez!\n",
            "Elige piedra, papel o tijeras: papel\n",
            "La computadora elige: piedra\n",
            "¡Ganastes!\n"
          ]
        }
      ]
    }
  ]
}